{
  "metadata": {
    "kernelspec": {
      "language": "python",
      "display_name": "Python 3",
      "name": "python3"
    },
    "language_info": {
      "pygments_lexer": "ipython3",
      "nbconvert_exporter": "python",
      "version": "3.6.4",
      "file_extension": ".py",
      "codemirror_mode": {
        "name": "ipython",
        "version": 3
      },
      "name": "python",
      "mimetype": "text/x-python"
    },
    "colab": {
      "provenance": [],
      "gpuType": "T4"
    },
    "accelerator": "GPU",
    "gpuClass": "standard"
  },
  "nbformat_minor": 0,
  "nbformat": 4,
  "cells": [
    {
      "cell_type": "code",
      "source": [
        "import matplotlib.pyplot as plt\n",
        "import numpy as np\n",
        "\n",
        "import torch\n",
        "import torch.nn as nn\n",
        "import torch.optim as optim\n",
        "import torchvision\n",
        "import torchvision.models as models\n",
        "import torchvision.transforms as transforms\n",
        "\n",
        "import time\n",
        "import os\n",
        "import PIL.Image as Image\n",
        "from IPython.display import display\n",
        "\n",
        "device = torch.device(\"cuda:0\" if torch.cuda.is_available() else \"cpu\")\n",
        "print(device)\n",
        "print(torch.cuda.get_device_name(device))"
      ],
      "metadata": {
        "execution": {
          "iopub.status.busy": "2022-12-28T09:16:12.782273Z",
          "iopub.execute_input": "2022-12-28T09:16:12.782641Z",
          "iopub.status.idle": "2022-12-28T09:16:14.634183Z",
          "shell.execute_reply.started": "2022-12-28T09:16:12.782564Z",
          "shell.execute_reply": "2022-12-28T09:16:14.633108Z"
        },
        "trusted": true,
        "colab": {
          "base_uri": "https://localhost:8080/"
        },
        "id": "Etx0jUnzr5Cd",
        "outputId": "788057dc-34f8-42c5-ff54-c362c82c370f"
      },
      "execution_count": 1,
      "outputs": [
        {
          "output_type": "stream",
          "name": "stdout",
          "text": [
            "cuda:0\n",
            "Tesla T4\n"
          ]
        }
      ]
    },
    {
      "cell_type": "code",
      "source": [
        "\n",
        "from google.colab import drive\n",
        "drive.mount('/content/drive')\n",
        "dataset_dir = \"/content/drive/MyDrive/cmpe257_cnn_car/testdata/car_data/car_data/\"   #change it with dataset location\n",
        "\n",
        "train_tfms = transforms.Compose([transforms.Resize((400, 400)),\n",
        "                                 transforms.RandomHorizontalFlip(),\n",
        "                                 transforms.RandomRotation(15),\n",
        "                                 transforms.ToTensor(),\n",
        "                                 transforms.Normalize((0.5, 0.5, 0.5), (0.5, 0.5, 0.5))])\n",
        "test_tfms = transforms.Compose([transforms.Resize((400, 400)),\n",
        "                                transforms.ToTensor(),\n",
        "                                transforms.Normalize((0.5, 0.5, 0.5), (0.5, 0.5, 0.5))])\n",
        "\n",
        "dataset = torchvision.datasets.ImageFolder(root=dataset_dir+\"train\", transform = train_tfms)\n",
        "trainloader = torch.utils.data.DataLoader(dataset, batch_size = 32, shuffle=True, num_workers = 2)\n",
        "\n",
        "dataset2 = torchvision.datasets.ImageFolder(root=dataset_dir+\"test\", transform = test_tfms)\n",
        "testloader = torch.utils.data.DataLoader(dataset2, batch_size = 32, shuffle=False, num_workers = 2)"
      ],
      "metadata": {
        "execution": {
          "iopub.status.busy": "2022-12-28T09:16:18.254715Z",
          "iopub.execute_input": "2022-12-28T09:16:18.255286Z",
          "iopub.status.idle": "2022-12-28T09:16:20.666885Z",
          "shell.execute_reply.started": "2022-12-28T09:16:18.255249Z",
          "shell.execute_reply": "2022-12-28T09:16:20.665812Z"
        },
        "trusted": true,
        "colab": {
          "base_uri": "https://localhost:8080/"
        },
        "id": "YODh4v9ar5Cg",
        "outputId": "a0ec2ee1-7fbf-4d63-bd4c-bf5bef6d17d9"
      },
      "execution_count": 2,
      "outputs": [
        {
          "output_type": "stream",
          "name": "stdout",
          "text": [
            "Mounted at /content/drive\n"
          ]
        }
      ]
    },
    {
      "cell_type": "code",
      "source": [
        "def train_model(model, criterion, optimizer, scheduler, n_epochs = 5):\n",
        "    \n",
        "    losses = []\n",
        "    accuracies = []\n",
        "    test_accuracies = []\n",
        "    # set the model to train mode initially\n",
        "    model.train()\n",
        "    model=model.to('cuda')\n",
        "    for epoch in range(n_epochs):\n",
        "        since = time.time()\n",
        "        running_loss = 0.0\n",
        "        running_correct = 0.0\n",
        "        for i, data in enumerate(trainloader, 0):\n",
        "\n",
        "            # get the inputs and assign them to cuda\n",
        "            inputs, labels = data\n",
        "            \n",
        "            inputs, labels = inputs.cuda(), labels.cuda()\n",
        "            optimizer.zero_grad()\n",
        "             # forward + backward + optimize\n",
        "                \n",
        "            outputs = model(inputs)\n",
        "            _, predicted = torch.max(outputs.data, 1)\n",
        "            loss = criterion(outputs, labels)\n",
        "            loss.backward()\n",
        "            optimizer.step()\n",
        "            \n",
        "            # calculate the loss/acc later\n",
        "            running_loss += loss.item()\n",
        "            running_correct += (labels==predicted).sum().item()\n",
        "\n",
        "        epoch_duration = time.time()-since\n",
        "        epoch_loss = running_loss/len(trainloader)\n",
        "        epoch_acc = 100/32*running_correct/len(trainloader)\n",
        "        print(\"Epoch %s, duration: %d s, loss: %.4f, acc: %.4f\" % (epoch+1, epoch_duration, epoch_loss, epoch_acc))\n",
        "        \n",
        "        losses.append(epoch_loss)\n",
        "        accuracies.append(epoch_acc)\n",
        "        model.eval()\n",
        "        test_acc = eval_model(model)\n",
        "        test_accuracies.append(test_acc)\n",
        "        \n",
        "        # re-set the model to train mode after validating\n",
        "        model.train()\n",
        "        scheduler.step(test_acc)\n",
        "        since = time.time()\n",
        "    print('Finished Training')\n",
        "    return model, losses, accuracies, test_accuracies"
      ],
      "metadata": {
        "execution": {
          "iopub.status.busy": "2022-12-28T09:16:26.353668Z",
          "iopub.execute_input": "2022-12-28T09:16:26.354354Z",
          "iopub.status.idle": "2022-12-28T09:16:26.364579Z",
          "shell.execute_reply.started": "2022-12-28T09:16:26.354303Z",
          "shell.execute_reply": "2022-12-28T09:16:26.363467Z"
        },
        "trusted": true,
        "id": "H3qv_CGJr5Cg"
      },
      "execution_count": 3,
      "outputs": []
    },
    {
      "cell_type": "code",
      "source": [
        "def eval_model(model):\n",
        "    correct = 0.0\n",
        "    total = 0.0\n",
        "    with torch.no_grad():\n",
        "        for i, data in enumerate(testloader, 0):\n",
        "            images, labels = data\n",
        "            \n",
        "            images = images.to(device)\n",
        "            labels = labels.to(device)\n",
        "            \n",
        "            outputs = model_ft(images)\n",
        "            _, predicted = torch.max(outputs.data, 1)\n",
        "            \n",
        "            total += labels.size(0)\n",
        "            correct += (predicted == labels).sum().item()\n",
        "        test_acc = 100.0 * correct / total\n",
        "    print('Accuracy of the network on the test images: %d %%' % (\n",
        "        test_acc))\n",
        "    return test_acc"
      ],
      "metadata": {
        "execution": {
          "iopub.status.busy": "2022-12-28T09:16:32.563979Z",
          "iopub.execute_input": "2022-12-28T09:16:32.564668Z",
          "iopub.status.idle": "2022-12-28T09:16:32.572462Z",
          "shell.execute_reply.started": "2022-12-28T09:16:32.564631Z",
          "shell.execute_reply": "2022-12-28T09:16:32.570975Z"
        },
        "trusted": true,
        "id": "jATx08gUr5Ch"
      },
      "execution_count": 4,
      "outputs": []
    },
    {
      "cell_type": "code",
      "source": [
        "model_ft = models.resnet50(pretrained=True)\n",
        "num_ftrs = model_ft.fc.in_features\n",
        "model_ft.fc = nn.Linear(num_ftrs, 196)\n",
        "model_ft = model_ft.to(device)\n",
        "criterion = nn.CrossEntropyLoss()\n",
        "optimizer = optim.SGD(model_ft.parameters(), lr=0.01,momentum=0.9)\n",
        "lrscheduler = optim.lr_scheduler.ReduceLROnPlateau(optimizer, mode='max', patience=3, threshold = 0.9)"
      ],
      "metadata": {
        "execution": {
          "iopub.status.busy": "2022-12-28T09:16:39.743564Z",
          "iopub.execute_input": "2022-12-28T09:16:39.743922Z",
          "iopub.status.idle": "2022-12-28T09:16:46.071659Z",
          "shell.execute_reply.started": "2022-12-28T09:16:39.743892Z",
          "shell.execute_reply": "2022-12-28T09:16:46.070664Z"
        },
        "trusted": true,
        "colab": {
          "base_uri": "https://localhost:8080/"
        },
        "id": "-eKVpNd-r5Ci",
        "outputId": "ad7aea2e-6c27-4070-9ba2-93572b9c71e9"
      },
      "execution_count": 5,
      "outputs": [
        {
          "output_type": "stream",
          "name": "stderr",
          "text": [
            "/usr/local/lib/python3.10/dist-packages/torchvision/models/_utils.py:208: UserWarning: The parameter 'pretrained' is deprecated since 0.13 and may be removed in the future, please use 'weights' instead.\n",
            "  warnings.warn(\n",
            "/usr/local/lib/python3.10/dist-packages/torchvision/models/_utils.py:223: UserWarning: Arguments other than a weight enum or `None` for 'weights' are deprecated since 0.13 and may be removed in the future. The current behavior is equivalent to passing `weights=ResNet50_Weights.IMAGENET1K_V1`. You can also use `weights=ResNet50_Weights.DEFAULT` to get the most up-to-date weights.\n",
            "  warnings.warn(msg)\n",
            "Downloading: \"https://download.pytorch.org/models/resnet50-0676ba61.pth\" to /root/.cache/torch/hub/checkpoints/resnet50-0676ba61.pth\n",
            "100%|██████████| 97.8M/97.8M [00:00<00:00, 193MB/s]\n"
          ]
        }
      ]
    },
    {
      "cell_type": "code",
      "source": [
        "model_ft, training_losses, training_accs, test_accs = train_model(model_ft, criterion, optimizer, lrscheduler, n_epochs=10)"
      ],
      "metadata": {
        "execution": {
          "iopub.status.busy": "2022-12-28T09:16:48.362351Z",
          "iopub.execute_input": "2022-12-28T09:16:48.362713Z",
          "iopub.status.idle": "2022-12-28T10:05:05.423713Z",
          "shell.execute_reply.started": "2022-12-28T09:16:48.36268Z",
          "shell.execute_reply": "2022-12-28T10:05:05.422605Z"
        },
        "trusted": true,
        "id": "qIYdh2lWr5Ci"
      },
      "execution_count": null,
      "outputs": []
    },
    {
      "cell_type": "code",
      "source": [
        "nb_classes = 196\n",
        "\n",
        "confusion_matrix = torch.zeros(nb_classes, nb_classes)\n",
        "with torch.no_grad():\n",
        "    for i, (inputs, classes) in enumerate(testloader):\n",
        "        inputs = inputs.to(device)\n",
        "        classes = classes.to(device)\n",
        "        outputs = model_ft(inputs)\n",
        "        _, preds = torch.max(outputs, 1)\n",
        "        for t, p in zip(classes.view(-1), preds.view(-1)):\n",
        "                confusion_matrix[t.long(), p.long()] += 1\n",
        "\n",
        "print(confusion_matrix)"
      ],
      "metadata": {
        "execution": {
          "iopub.status.busy": "2022-12-28T10:07:21.698594Z",
          "iopub.execute_input": "2022-12-28T10:07:21.698982Z",
          "iopub.status.idle": "2022-12-28T10:09:27.532063Z",
          "shell.execute_reply.started": "2022-12-28T10:07:21.698947Z",
          "shell.execute_reply": "2022-12-28T10:09:27.530943Z"
        },
        "trusted": true,
        "id": "8sEeIlJLr5Ci"
      },
      "execution_count": null,
      "outputs": []
    },
    {
      "cell_type": "code",
      "source": [
        "import pandas as pd\n",
        "import seaborn as sns\n",
        "nb_classes = 196\n",
        "confusion_matrix = np.zeros((nb_classes, nb_classes))\n",
        "with torch.no_grad():\n",
        "    for i, (inputs, classes) in enumerate(testloader):\n",
        "        inputs = inputs.to(device)\n",
        "        classes = classes.to(device)\n",
        "        outputs = model_ft(inputs)\n",
        "        _, preds = torch.max(outputs, 1)\n",
        "        for t, p in zip(classes.view(-1), preds.view(-1)):\n",
        "                confusion_matrix[t.long(), p.long()] += 1\n",
        "\n",
        "plt.figure(figsize=(20,20))\n",
        "\n",
        "\n",
        "df_cm = pd.DataFrame(confusion_matrix)\n",
        "heatmap = sns.heatmap(df_cm, annot=True,fmt=\"d\")\n",
        "\n",
        "heatmap.yaxis.set_ticklabels(heatmap.yaxis.get_ticklabels(), rotation=0, ha='right',fontsize=15)\n",
        "heatmap.xaxis.set_ticklabels(heatmap.xaxis.get_ticklabels(), rotation=45, ha='right',fontsize=15)\n",
        "plt.ylabel('True label')\n",
        "plt.xlabel('Predicted label')"
      ],
      "metadata": {
        "execution": {
          "iopub.status.busy": "2022-12-28T10:16:23.69862Z",
          "iopub.execute_input": "2022-12-28T10:16:23.69901Z",
          "iopub.status.idle": "2022-12-28T10:18:29.984246Z",
          "shell.execute_reply.started": "2022-12-28T10:16:23.698977Z",
          "shell.execute_reply": "2022-12-28T10:18:29.98258Z"
        },
        "trusted": true,
        "id": "RUGKv7Ztr5Cj"
      },
      "execution_count": null,
      "outputs": []
    }
  ]
}